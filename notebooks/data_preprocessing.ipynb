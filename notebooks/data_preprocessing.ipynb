{
 "cells": [
  {
   "cell_type": "code",
   "execution_count": 2,
   "id": "138ca4dc",
   "metadata": {},
   "outputs": [],
   "source": [
    "import pandas as pd\n",
    "import torch\n",
    "from collections import defaultdict"
   ]
  },
  {
   "cell_type": "code",
   "execution_count": 3,
   "id": "272d74a2",
   "metadata": {},
   "outputs": [],
   "source": [
    "# 1. Load dataset\n",
    "df = pd.read_csv(r\"C:/Users/Manasa/drkg/drkg.tsv\", sep=\"\\t\", header=None)\n",
    "df.columns = [\"head\", \"relation\", \"tail\"]\n"
   ]
  },
  {
   "cell_type": "code",
   "execution_count": 4,
   "id": "79a80faf",
   "metadata": {},
   "outputs": [
    {
     "name": "stdout",
     "output_type": "stream",
     "text": [
      "Sample triples:\n",
      "         head                        relation         tail\n",
      "0  Gene::2157  bioarx::HumGenHumGen:Gene:Gene   Gene::2157\n",
      "1  Gene::2157  bioarx::HumGenHumGen:Gene:Gene   Gene::5264\n",
      "2  Gene::2157  bioarx::HumGenHumGen:Gene:Gene   Gene::2158\n",
      "3  Gene::2157  bioarx::HumGenHumGen:Gene:Gene   Gene::3309\n",
      "4  Gene::2157  bioarx::HumGenHumGen:Gene:Gene  Gene::28912\n"
     ]
    }
   ],
   "source": [
    "print(\"Sample triples:\")\n",
    "print(df.head())\n"
   ]
  },
  {
   "cell_type": "code",
   "execution_count": 5,
   "id": "04de7f86",
   "metadata": {},
   "outputs": [],
   "source": [
    "entities = set(df[\"head\"]).union(set(df[\"tail\"]))\n",
    "relations = set(df[\"relation\"])\n",
    "entity2id = {e: idx for idx, e in enumerate(sorted(entities))}\n",
    "relation2id = {r: idx for idx, r in enumerate(sorted(relations))}\n",
    "df[\"head_id\"] = df[\"head\"].map(entity2id)\n",
    "df[\"tail_id\"] = df[\"tail\"].map(entity2id)\n",
    "df[\"rel_id\"]  = df[\"relation\"].map(relation2id)\n"
   ]
  },
  {
   "cell_type": "code",
   "execution_count": 7,
   "id": "2a3a2d09",
   "metadata": {},
   "outputs": [],
   "source": [
    "pd.DataFrame(list(entity2id.items()), columns=[\"entity\", \"id\"]).to_csv(\"C:/Users/Manasa/OneDrive/Desktop/Drug_Repurposing_Gnn/data/processed/entities.csv\", index=False)\n",
    "pd.DataFrame(list(relation2id.items()), columns=[\"relation\", \"id\"]).to_csv(\"C:/Users/Manasa/OneDrive/Desktop/Drug_Repurposing_Gnn/data/processed/relations.csv\", index=False)\n",
    "df[[\"head_id\", \"rel_id\", \"tail_id\"]].to_csv(\"C:/Users/Manasa/OneDrive/Desktop/Drug_Repurposing_Gnn/data/processed/triples.csv\", index=False)\n",
    "edge_index = torch.tensor(\n",
    "    [df[\"head_id\"].tolist(), df[\"tail_id\"].tolist()],\n",
    "    dtype=torch.long\n",
    ")\n",
    "\n",
    "edge_type = torch.tensor(df[\"rel_id\"].tolist(), dtype=torch.long)\n",
    "\n"
   ]
  },
  {
   "cell_type": "code",
   "execution_count": 8,
   "id": "4afe96f9",
   "metadata": {},
   "outputs": [
    {
     "name": "stdout",
     "output_type": "stream",
     "text": [
      "edge_index shape: torch.Size([2, 5874261])\n",
      "edge_type shape: torch.Size([5874261])\n"
     ]
    }
   ],
   "source": [
    "print(\"edge_index shape:\", edge_index.shape)\n",
    "print(\"edge_type shape:\", edge_type.shape)\n"
   ]
  },
  {
   "cell_type": "code",
   "execution_count": 9,
   "id": "64f29dda",
   "metadata": {},
   "outputs": [
    {
     "name": "stdout",
     "output_type": "stream",
     "text": [
      "Drug-Disease subgraph size: (1967508, 6)\n"
     ]
    }
   ],
   "source": [
    "drug_mask = df[\"head\"].str.contains(\"Compound::\") | df[\"tail\"].str.contains(\"Compound::\")\n",
    "disease_mask = df[\"head\"].str.contains(\"Disease::\") | df[\"tail\"].str.contains(\"Disease::\")\n",
    "drug_disease_subgraph = df[drug_mask | disease_mask]\n",
    "drug_disease_subgraph.to_csv(\"C:/Users/Manasa/OneDrive/Desktop/Drug_Repurposing_Gnn/data/processed/drug_disease_subgraph.csv\", index=False)\n",
    "print(\"Drug-Disease subgraph size:\", drug_disease_subgraph.shape) "
   ]
  }
 ],
 "metadata": {
  "kernelspec": {
   "display_name": ".venv",
   "language": "python",
   "name": "python3"
  },
  "language_info": {
   "codemirror_mode": {
    "name": "ipython",
    "version": 3
   },
   "file_extension": ".py",
   "mimetype": "text/x-python",
   "name": "python",
   "nbconvert_exporter": "python",
   "pygments_lexer": "ipython3",
   "version": "3.10.10"
  }
 },
 "nbformat": 4,
 "nbformat_minor": 5
}
