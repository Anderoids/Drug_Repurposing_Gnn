{
 "cells": [
  {
   "cell_type": "code",
   "execution_count": 6,
   "id": "3164a57c",
   "metadata": {},
   "outputs": [],
   "source": [
    "import pandas as pd\n",
    "from sklearn.model_selection import train_test_split\n"
   ]
  },
  {
   "cell_type": "code",
   "execution_count": 2,
   "id": "bbff39ca",
   "metadata": {},
   "outputs": [
    {
     "name": "stdout",
     "output_type": "stream",
     "text": [
      "Total unique diseases: 5055\n"
     ]
    }
   ],
   "source": [
    "df = pd.read_csv(\"C:/Users/Manasa/drkg/drkg.tsv\", sep=\"\\t\", header=None, names=[\"head\", \"relation\", \"tail\"])\n",
    "\n",
    "\n",
    "diseases = set(df[df[\"tail\"].str.contains(\"Disease|DOID\")][\"tail\"].unique())\n",
    "print(f\"Total unique diseases: {len(diseases)}\")\n"
   ]
  },
  {
   "cell_type": "code",
   "execution_count": 3,
   "id": "b2ab9d96",
   "metadata": {},
   "outputs": [],
   "source": [
    "\n",
    "test_diseases = pd.Series(list(diseases)).sample(frac=0.2, random_state=42)\n",
    "test_diseases = set(test_diseases)\n"
   ]
  },
  {
   "cell_type": "code",
   "execution_count": 4,
   "id": "7ccd0e22",
   "metadata": {},
   "outputs": [],
   "source": [
    "\n",
    "# All triples involving test diseases go to test set\n",
    "test_df = df[df[\"tail\"].isin(test_diseases)]\n",
    "\n",
    "# Remaining triples → candidate for train/val\n",
    "train_val_df = df[~df[\"tail\"].isin(test_diseases)]\n"
   ]
  },
  {
   "cell_type": "code",
   "execution_count": null,
   "id": "e9e7f003",
   "metadata": {},
   "outputs": [
    {
     "name": "stdout",
     "output_type": "stream",
     "text": [
      "Train edges: 5261827\n",
      "Val edges: 584648\n",
      "Test edges (inductive, unseen diseases): 27786\n"
     ]
    }
   ],
   "source": [
    "# Split train vs validation\n",
    "train_df, val_df = train_test_split(train_val_df, test_size=0.1, random_state=42)\n",
    "\n",
    "print(f\"Train edges: {len(train_df)}\")\n",
    "print(f\"Val edges: {len(val_df)}\")\n",
    "print(f\"Test edges (inductive, unseen diseases): {len(test_df)}\")\n"
   ]
  },
  {
   "cell_type": "code",
   "execution_count": null,
   "id": "8349a4e5",
   "metadata": {},
   "outputs": [
    {
     "name": "stdout",
     "output_type": "stream",
     "text": [
      " Inductive disease split created and saved.\n"
     ]
    }
   ],
   "source": [
    "# Save processed splits\n",
    "train_df.to_csv(\"C:/Users/Manasa/OneDrive/Desktop/Drug_Repurposing_Gnn/Drug_Repurposing_Gnn/data/train_inductive.csv\", index=False)\n",
    "val_df.to_csv(\"C:/Users/Manasa/OneDrive/Desktop/Drug_Repurposing_Gnn/Drug_Repurposing_Gnn/data/val_inductive.csv\", index=False)\n",
    "test_df.to_csv(\"C:/Users/Manasa/OneDrive/Desktop/Drug_Repurposing_Gnn/Drug_Repurposing_Gnn/data/test_inductive.csv\", index=False)\n",
    "\n",
    "print(\" Inductive disease split created and saved.\")\n"
   ]
  },
  {
   "cell_type": "code",
   "execution_count": null,
   "id": "2791def9",
   "metadata": {},
   "outputs": [],
   "source": []
  }
 ],
 "metadata": {
  "kernelspec": {
   "display_name": ".venv",
   "language": "python",
   "name": "python3"
  },
  "language_info": {
   "codemirror_mode": {
    "name": "ipython",
    "version": 3
   },
   "file_extension": ".py",
   "mimetype": "text/x-python",
   "name": "python",
   "nbconvert_exporter": "python",
   "pygments_lexer": "ipython3",
   "version": "3.10.10"
  }
 },
 "nbformat": 4,
 "nbformat_minor": 5
}
